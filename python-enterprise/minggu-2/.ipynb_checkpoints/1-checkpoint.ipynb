{
 "cells": [
  {
   "cell_type": "markdown",
   "id": "fcf9f296",
   "metadata": {},
   "source": [
    "# Functional Programming"
   ]
  },
  {
   "cell_type": "markdown",
   "id": "778f581c",
   "metadata": {},
   "source": [
    "Secara singkat, functional programming merupakan pola pikir pemrograman yang menekankan pada pendefinisian aksi daripada melakukan aksi. Konsep Functional programming diturunkan dari pola pikir matematika mengenai pendefinisian input menjadi sebuah fungsi dan jenis output yang diekspektasikan dari fungsi tersebut. Output dari fungsi hanya tergantung dari argumen yang dimasukkan "
   ]
  },
  {
   "cell_type": "code",
   "execution_count": 12,
   "id": "bede0bb3",
   "metadata": {},
   "outputs": [
    {
     "data": {
      "text/plain": [
       "<function __main__.hello_world.<locals>.world(w)>"
      ]
     },
     "execution_count": 12,
     "metadata": {},
     "output_type": "execute_result"
    }
   ],
   "source": [
    "def hello_world(h):\n",
    "    def world(w):\n",
    "        print(h, w)\n",
    "    return world # returning functions\n",
    "\n",
    "h = hello_world # assigning\n",
    "x = h(\"hello\") # assigning\n",
    "x"
   ]
  },
  {
   "cell_type": "code",
   "execution_count": 13,
   "id": "a6553671",
   "metadata": {},
   "outputs": [
    {
     "name": "stdout",
     "output_type": "stream",
     "text": [
      "hello world\n"
     ]
    }
   ],
   "source": [
    "x('world')"
   ]
  },
  {
   "cell_type": "markdown",
   "id": "3d67ab1b",
   "metadata": {},
   "source": [
    "# Map function"
   ]
  },
  {
   "cell_type": "code",
   "execution_count": 18,
   "id": "cac130ee",
   "metadata": {},
   "outputs": [],
   "source": [
    "def tambah(x):\n",
    "    return x+'a'"
   ]
  },
  {
   "cell_type": "code",
   "execution_count": 21,
   "id": "023d0c0e",
   "metadata": {},
   "outputs": [],
   "source": [
    "a = ['1','2','3']"
   ]
  },
  {
   "cell_type": "code",
   "execution_count": 25,
   "id": "e24403c8",
   "metadata": {},
   "outputs": [
    {
     "data": {
      "text/plain": [
       "['1a', '2a', '3a']"
      ]
     },
     "execution_count": 25,
     "metadata": {},
     "output_type": "execute_result"
    }
   ],
   "source": [
    "list(map(tambah,a))"
   ]
  },
  {
   "cell_type": "markdown",
   "id": "bec50678",
   "metadata": {},
   "source": [
    "# Definisi Functional Programming lain"
   ]
  },
  {
   "cell_type": "markdown",
   "id": "06cc695c",
   "metadata": {},
   "source": [
    "Dalam istilah yang sederhana, Functional Programming adalah gaya pemrograman dimana pemrogram dapat mengumpan fungsi sebagai parameter ke dalam fungsi lain dan mengembalikannya sebagai nilai. Dalam functional programming, kita berpikir dan memprogram dalam sebuah fungsi"
   ]
  },
  {
   "cell_type": "code",
   "execution_count": 1,
   "id": "57144fdc",
   "metadata": {},
   "outputs": [
    {
     "name": "stdout",
     "output_type": "stream",
     "text": [
      "[28, 93]\n",
      "[33, 98]\n"
     ]
    }
   ],
   "source": [
    "def hof_add(increment):\n",
    "    # Create a function that loops and adds the increment\n",
    "    def add_increment(numbers):\n",
    "        new_numbers = []\n",
    "        for n in numbers:\n",
    "            new_numbers.append(n + increment)\n",
    "        return new_numbers\n",
    "    # We return the function as we do any other value\n",
    "    return add_increment\n",
    "\n",
    "add5 = hof_add(5)\n",
    "print(add5([23, 88]))\n",
    "add10 = hof_add(10)\n",
    "print(add10([23, 88]))"
   ]
  },
  {
   "cell_type": "code",
   "execution_count": null,
   "id": "e750178b",
   "metadata": {},
   "outputs": [],
   "source": []
  }
 ],
 "metadata": {
  "kernelspec": {
   "display_name": "Python 3",
   "language": "python",
   "name": "python3"
  },
  "language_info": {
   "codemirror_mode": {
    "name": "ipython",
    "version": 3
   },
   "file_extension": ".py",
   "mimetype": "text/x-python",
   "name": "python",
   "nbconvert_exporter": "python",
   "pygments_lexer": "ipython3",
   "version": "3.8.3"
  }
 },
 "nbformat": 4,
 "nbformat_minor": 5
}
