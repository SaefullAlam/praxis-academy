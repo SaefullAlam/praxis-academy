{
 "cells": [
  {
   "cell_type": "markdown",
   "id": "ba5fe058",
   "metadata": {},
   "source": [
    "# Serialisasi Data (Pickling)"
   ]
  },
  {
   "cell_type": "markdown",
   "id": "4c0ca87b",
   "metadata": {},
   "source": [
    "Serialisasi data pada Python bertujuan untuk mengubah objek/instance menjadi kode biner. Pada dasarnya, objek Python tidak dapat disimpan sehingga diperlukan serialisasi untuk menyimpan objek dalam bentuk kode biner. Objek yang telah disimpan dapat digunakan kembali dengan cara deserialisasi/unpickling"
   ]
  },
  {
   "cell_type": "code",
   "execution_count": 1,
   "id": "cce97cb4",
   "metadata": {},
   "outputs": [],
   "source": [
    "import pickle as pc"
   ]
  },
  {
   "cell_type": "code",
   "execution_count": 19,
   "id": "c4c051af",
   "metadata": {},
   "outputs": [],
   "source": [
    "class objek:\n",
    "    def __init__(self,nama_depan,umur):\n",
    "        self.nama = nama_depan\n",
    "        self.umur = umur\n",
    "    \n",
    "    @classmethod\n",
    "    def namalengkap(cls,nama_lengkap,umur):\n",
    "        nama_depan = cls.ambilnamadepan(nama_lengkap)\n",
    "        return cls(nama_depan,umur)\n",
    "    \n",
    "    @staticmethod\n",
    "    def ambilnamadepan(nama_lengkap):\n",
    "        return nama_lengkap.split()[0]"
   ]
  },
  {
   "cell_type": "code",
   "execution_count": 20,
   "id": "aa79c4bf",
   "metadata": {},
   "outputs": [],
   "source": [
    "orang1 = objek('Saefull',23)"
   ]
  },
  {
   "cell_type": "code",
   "execution_count": 21,
   "id": "093d91a8",
   "metadata": {},
   "outputs": [],
   "source": [
    "orang2 = objek.namalengkap('Alam Wisnutama',22)"
   ]
  },
  {
   "cell_type": "code",
   "execution_count": 32,
   "id": "b822b15b",
   "metadata": {},
   "outputs": [],
   "source": [
    "dump1 = pc.dumps(objek)"
   ]
  },
  {
   "cell_type": "code",
   "execution_count": 33,
   "id": "0b944334",
   "metadata": {},
   "outputs": [],
   "source": [
    "load1 = pc.loads(dump1)"
   ]
  },
  {
   "cell_type": "code",
   "execution_count": 34,
   "id": "9cf4dccc",
   "metadata": {},
   "outputs": [],
   "source": [
    "orang3 = load1('Toni',50)"
   ]
  },
  {
   "cell_type": "markdown",
   "id": "afbcfa9f",
   "metadata": {},
   "source": [
    "# Serialisasi Data JSON"
   ]
  },
  {
   "cell_type": "code",
   "execution_count": 36,
   "id": "c345305e",
   "metadata": {},
   "outputs": [],
   "source": [
    "import json"
   ]
  },
  {
   "cell_type": "code",
   "execution_count": 37,
   "id": "91bfb06c",
   "metadata": {},
   "outputs": [],
   "source": [
    "data = {\n",
    "    'nama' : 'Saefull',\n",
    "    'umur' : 23\n",
    "}"
   ]
  },
  {
   "cell_type": "code",
   "execution_count": 45,
   "id": "6a85405e",
   "metadata": {},
   "outputs": [],
   "source": [
    "json_dump1 = json.dumps(data)"
   ]
  },
  {
   "cell_type": "code",
   "execution_count": 46,
   "id": "ca66e6b5",
   "metadata": {},
   "outputs": [],
   "source": [
    "json_load1 = json.loads(json1)"
   ]
  },
  {
   "cell_type": "code",
   "execution_count": 47,
   "id": "65fbd36f",
   "metadata": {},
   "outputs": [],
   "source": [
    "data2 = [\n",
    "    {\n",
    "        'nama':'Saefull',\n",
    "        'umur':23\n",
    "    },\n",
    "    {\n",
    "        'nama':'Doni',\n",
    "        'umur':40\n",
    "    }\n",
    "]"
   ]
  },
  {
   "cell_type": "code",
   "execution_count": 52,
   "id": "69d6bc98",
   "metadata": {},
   "outputs": [],
   "source": [
    "json_dump2 = json.dumps(data2)"
   ]
  },
  {
   "cell_type": "code",
   "execution_count": 54,
   "id": "f6ed486a",
   "metadata": {},
   "outputs": [
    {
     "data": {
      "text/plain": [
       "'[{\"nama\": \"Saefull\", \"umur\": 23}, {\"nama\": \"Doni\", \"umur\": 40}]'"
      ]
     },
     "execution_count": 54,
     "metadata": {},
     "output_type": "execute_result"
    }
   ],
   "source": [
    "json_dump2"
   ]
  },
  {
   "cell_type": "code",
   "execution_count": 55,
   "id": "503ca9bb",
   "metadata": {},
   "outputs": [],
   "source": [
    "json_load2 = json.loads(json_dump1)"
   ]
  },
  {
   "cell_type": "code",
   "execution_count": 58,
   "id": "2c159b3a",
   "metadata": {},
   "outputs": [
    {
     "data": {
      "text/plain": [
       "[{'nama': 'Saefull', 'umur': 23}, {'nama': 'Doni', 'umur': 40}]"
      ]
     },
     "execution_count": 58,
     "metadata": {},
     "output_type": "execute_result"
    }
   ],
   "source": [
    "json_load2"
   ]
  },
  {
   "cell_type": "code",
   "execution_count": 66,
   "id": "1803f43e",
   "metadata": {},
   "outputs": [
    {
     "data": {
      "text/plain": [
       "'{\"nama\": \"Saefull\", \"umur\": 23}'"
      ]
     },
     "execution_count": 66,
     "metadata": {},
     "output_type": "execute_result"
    }
   ],
   "source": [
    "json.dumps(orang1.__dict__)"
   ]
  },
  {
   "cell_type": "code",
   "execution_count": 67,
   "id": "81ebdc89",
   "metadata": {},
   "outputs": [
    {
     "data": {
      "text/plain": [
       "{'nama': 'Saefull', 'umur': 23}"
      ]
     },
     "execution_count": 67,
     "metadata": {},
     "output_type": "execute_result"
    }
   ],
   "source": [
    "orang1.__dict__"
   ]
  }
 ],
 "metadata": {
  "kernelspec": {
   "display_name": "Python 3",
   "language": "python",
   "name": "python3"
  },
  "language_info": {
   "codemirror_mode": {
    "name": "ipython",
    "version": 3
   },
   "file_extension": ".py",
   "mimetype": "text/x-python",
   "name": "python",
   "nbconvert_exporter": "python",
   "pygments_lexer": "ipython3",
   "version": "3.8.3"
  }
 },
 "nbformat": 4,
 "nbformat_minor": 5
}
