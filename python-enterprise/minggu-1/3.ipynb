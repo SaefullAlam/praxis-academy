{
 "cells": [
  {
   "cell_type": "markdown",
   "id": "7734ac4b",
   "metadata": {},
   "source": [
    "# Pola Pikir Objek"
   ]
  },
  {
   "cell_type": "markdown",
   "id": "e356bc8f",
   "metadata": {},
   "source": [
    "Sebuah program membutuhkan sebuah konsep paradigma pemrograman yang digunakan untuk menentukan struktur sebuah program. Paradigma pemrograman tidak terlalu diperlukan pada aplikasi skala kecil dengan jumlah baris kode tidak mencapai ratusan. Namun ketika sebuah program sudah mencapai ratusan, ribuan, hingga jutaan baris kode maka sebuah pendekatan diperlukan untuk membuat struktur program agar tidak timbul masalah di kemudian hari. Ada beberapa paradigma atau pola pikir dalam pemrograman, beberapa yang paling populer adalah prosedural, fungsional, dan pola pikir objek. Bahasa pemrograman Python menggunakan pola pikir objek. Pola pikir objek menganggap setiap komponen dalam program adalah sebuah objek yang memiliki sifat dan perilaku tertentu. Istilah class dan instance ditemui pada pola pikir obyek. Class adalah sebuah blueprint tanpa data yang menentukan bagaimana sifat dan perilaku suatu objek akan didefinisikan. Sedangkan Instance adalah objek yang diciptakan dari sebuah class dan mengandung data pribadi objek"
   ]
  },
  {
   "cell_type": "markdown",
   "id": "ffa4e0c0",
   "metadata": {},
   "source": [
    "# Class Responsibility Collaboration"
   ]
  },
  {
   "attachments": {
    "image.png": {
     "image/png": "[encoded data removed]"
    }
   },
   "cell_type": "markdown",
   "id": "e233c9f7",
   "metadata": {},
   "source": [
    "\n",
    "![image.png](attachment:image.png)"
   ]
  },
  {
   "attachments": {
    "image.png": {
     "image/png": "[encoded data removed]"
    }
   },
   "cell_type": "markdown",
   "id": "9f6edfcf",
   "metadata": {},
   "source": [
    "\n",
    "![image.png](attachment:image.png)"
   ]
  },
  {
   "attachments": {
    "image-6.png": {
     "image/png": "[encoded data removed]"
    }
   },
   "cell_type": "markdown",
   "id": "8ac6d787",
   "metadata": {},
   "source": [
    "![image-6.png](attachment:image-6.png)"
   ]
  },
  {
   "cell_type": "markdown",
   "id": "03634a72",
   "metadata": {},
   "source": [
    "# Implementasi CRC ke Python"
   ]
  },
  {
   "cell_type": "code",
   "execution_count": 27,
   "id": "62e092cc",
   "metadata": {},
   "outputs": [],
   "source": [
    "class Mahasiswa:\n",
    "    def __init__(self, nama,angkatan,nim,tema):\n",
    "        self.nama     = nama\n",
    "        self.angkatan = angkatan\n",
    "        self.nim      = nim\n",
    "        self.tema     = tema\n",
    "    \n",
    "    def DosenPembimbing(self,dosen_pembimbing):\n",
    "        self.dosen_pembimbing = dosen_pembimbing.nama\n",
    "        setattr(dosen_pembimbing,'jumlah_bimbingan',dosen_pembimbing.jumlah_bimbingan+1)\n",
    "    \n",
    "    def DosenPenguji(self,dosen_penguji):\n",
    "        self.dosen_penguji = dosen_penguji.nama\n",
    "        setattr(dosen_penguji,'jumlah_diuji',dosen_penguji.jumlah_diuji+1)\n",
    "\n",
    "class DosenPembimbing:\n",
    "    def __init__(self,nama,nip,keahlian,jumlah_bimbingan):\n",
    "        self.nama             = nama\n",
    "        self.nip              = nip\n",
    "        self.keahlian         = keahlian\n",
    "        self.jumlah_bimbingan = jumlah_bimbingan \n",
    "        \n",
    "class DosenPenguji:\n",
    "    def __init__(self,nama,nip,keahlian,jumlah_diuji):\n",
    "        self.nama             = nama\n",
    "        self.nip              = nip\n",
    "        self.keahlian         = keahlian\n",
    "        self.jumlah_diuji     = jumlah_diuji "
   ]
  },
  {
   "cell_type": "code",
   "execution_count": 29,
   "id": "21f1e4e9",
   "metadata": {},
   "outputs": [],
   "source": [
    "Mahasiswa1  = Mahasiswa(\"Saefull Alam Wisnutama\",2018,'18/427563/PA/18523','Geofisika')\n",
    "Pembimbing1 = DosenPembimbing(\"Budi Darmawan\",\"1234567\",\"Geofisika\",0)\n",
    "Penguji1    = DosenPenguji(\"Melisa Ayu\",\"98765431\",\"Geofisika\",0)"
   ]
  },
  {
   "cell_type": "code",
   "execution_count": 30,
   "id": "ca44c67e",
   "metadata": {},
   "outputs": [],
   "source": [
    "Mahasiswa1.DosenPembimbing(Pembimbing1)\n",
    "Mahasiswa1.DosenPenguji(Penguji1)"
   ]
  },
  {
   "cell_type": "markdown",
   "id": "c7290f4b",
   "metadata": {},
   "source": [
    "# Latihan"
   ]
  },
  {
   "cell_type": "code",
   "execution_count": 41,
   "id": "016c5859",
   "metadata": {},
   "outputs": [
    {
     "name": "stdout",
     "output_type": "stream",
     "text": [
      "(Inisialisasi Keluarga: Bono)\n",
      "(Inisialisasi ayah: Bono)\n",
      "(Inisialisasi Keluarga: Siti)\n",
      "(Inisialisasi Ibu: Siti)\n",
      "\n",
      "Nama:\"Bono\" Umur:\"70\" Pendidikan: \"S1\"\n"
     ]
    }
   ],
   "source": [
    "class Keluarga:\n",
    "    def __init__(self, nama, umur):\n",
    "        self.nama = nama\n",
    "        self.umur = umur\n",
    "        print('(Inisialisasi Keluarga: {})'.format(self.nama))\n",
    "\n",
    "    def deskripsi(self):\n",
    "        print('Nama:\"{}\" Umur:\"{}\"'.format(self.nama, self.umur), end=\" \")\n",
    "\n",
    "\n",
    "class Ibu(Keluarga):\n",
    "    def __init__(self, nama, umur, pekerjaan):\n",
    "        Keluarga.__init__(self, nama, umur)\n",
    "        self.pekerjaan = pekerjaan\n",
    "        print('(Inisialisasi Ibu: {})'.format(self.nama))\n",
    "\n",
    "    def deskripsi(self):\n",
    "        Keluarga.deskripsi(self)\n",
    "        print('Pekerjaan: \"{:d}\"'.format(self.pekerjaan))\n",
    "\n",
    "\n",
    "class Ayah(Keluarga):\n",
    "    def __init__(self, nama, umur, pendidikan):\n",
    "        Keluarga.__init__(self, nama, umur)\n",
    "        self.pendidikan = pendidikan\n",
    "        print('(Inisialisasi ayah: {})'.format(self.nama))\n",
    "\n",
    "    def deskripsi(self):\n",
    "        Keluarga.deskripsi(self)\n",
    "        print('Pendidikan: \"{:}\"'.format(self.pendidikan))\n",
    "\n",
    "Keluarga1 = Ayah('Bono', 70, \"S1\")\n",
    "Keluarga2 = Ibu('Siti', 50, \"Guru\")\n",
    "\n",
    "# prints a blank line\n",
    "print()\n",
    "\n",
    "# members = [t, s]\n",
    "# for member in members:\n",
    "#     # Works for both Teachers and Students\n",
    "#     member.tell()\n",
    "\n",
    "Keluarga1.deskripsi()"
   ]
  },
  {
   "cell_type": "markdown",
   "id": "0787d9ef",
   "metadata": {},
   "source": [
    "# Program dari Standard Library Python"
   ]
  },
  {
   "cell_type": "code",
   "execution_count": 58,
   "id": "46612571",
   "metadata": {},
   "outputs": [],
   "source": [
    "import math\n",
    "\n",
    "class Kerucut:\n",
    "    def __init__(self,r,t):\n",
    "        self.r = r\n",
    "        self.t = t\n",
    "    \n",
    "    def luas_alas(self):\n",
    "        print(f\"Luas alas kerucut : {math.pi*math.pow(self.r,2)}\")\n",
    "    \n",
    "    def volume(self):\n",
    "        print(f\"Volume kerucut : {1/3*math.pi*math.pow(self.r,2)*self.t}\")\n",
    "    "
   ]
  },
  {
   "cell_type": "code",
   "execution_count": 60,
   "id": "de05d215",
   "metadata": {},
   "outputs": [
    {
     "name": "stdout",
     "output_type": "stream",
     "text": [
      "Luas alas kerucut : 78.53981633974483\n",
      "Volume kerucut : 52.35987755982988\n"
     ]
    }
   ],
   "source": [
    "coba = Kerucut(5,2)\n",
    "coba.luas_alas()\n",
    "coba.volume()"
   ]
  },
  {
   "cell_type": "code",
   "execution_count": null,
   "id": "84e028d0",
   "metadata": {},
   "outputs": [],
   "source": []
  }
 ],
 "metadata": {
  "kernelspec": {
   "display_name": "Python 3",
   "language": "python",
   "name": "python3"
  },
  "language_info": {
   "codemirror_mode": {
    "name": "ipython",
    "version": 3
   },
   "file_extension": ".py",
   "mimetype": "text/x-python",
   "name": "python",
   "nbconvert_exporter": "python",
   "pygments_lexer": "ipython3",
   "version": "3.8.3"
  }
 },
 "nbformat": 4,
 "nbformat_minor": 5
}
